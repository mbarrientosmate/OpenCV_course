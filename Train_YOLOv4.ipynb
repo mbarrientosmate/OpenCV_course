{
  "nbformat": 4,
  "nbformat_minor": 0,
  "metadata": {
    "accelerator": "GPU",
    "colab": {
      "provenance": [],
      "collapsed_sections": []
    },
    "kernelspec": {
      "display_name": "Python 3",
      "language": "python",
      "name": "python3"
    },
    "language_info": {
      "codemirror_mode": {
        "name": "ipython",
        "version": 3
      },
      "file_extension": ".py",
      "mimetype": "text/x-python",
      "name": "python",
      "nbconvert_exporter": "python",
      "pygments_lexer": "ipython3",
      "version": "3.7.3"
    }
  },
  "cells": [
    {
      "cell_type": "markdown",
      "metadata": {
        "id": "Uopuc7bIinD3"
      },
      "source": [
        "# <font style=\"color:blue\">YOLOv4 Train</font>\n"
      ]
    },
    {
      "cell_type": "markdown",
      "metadata": {
        "id": "hPvOqKeDGOwZ"
      },
      "source": [
        "# <font style=\"color:blue\">1. Link Google Drive</font>\n",
        "I found it easier to use Google Drive while training and testing, but let me knwow if you prefer a solution that doesn't need it/"
      ]
    },
    {
      "cell_type": "markdown",
      "metadata": {
        "id": "lXuiOlhMH78B"
      },
      "source": [
        "### <font style=\"color:green\">Link google drive</font>"
      ]
    },
    {
      "cell_type": "code",
      "metadata": {
        "id": "gzwrL5PLG5Jg",
        "colab": {
          "base_uri": "https://localhost:8080/"
        },
        "outputId": "d5617be7-be17-4076-90bf-5b329050ff38"
      },
      "source": [
        "from google.colab import drive\n",
        "drive.mount('/content/drive')"
      ],
      "execution_count": null,
      "outputs": [
        {
          "output_type": "stream",
          "name": "stdout",
          "text": [
            "Mounted at /content/drive\n"
          ]
        }
      ]
    },
    {
      "cell_type": "code",
      "metadata": {
        "colab": {
          "base_uri": "https://localhost:8080/"
        },
        "id": "WrnVJCFLHV9p",
        "outputId": "0c352c1e-d6b3-4557-c820-897167dc2520"
      },
      "source": [
        "%cd /content/drive/My\\ Drive"
      ],
      "execution_count": null,
      "outputs": [
        {
          "output_type": "stream",
          "name": "stdout",
          "text": [
            "/content/drive/My Drive\n"
          ]
        }
      ]
    },
    {
      "cell_type": "markdown",
      "metadata": {
        "id": "n5N6DPo2jG5x"
      },
      "source": [
        "# <font style=\"color:blue\">2. Clone and build DarkNet repository </font>\n",
        "Buidl darknet from source. These two setps can be skipped if already available"
      ]
    },
    {
      "cell_type": "code",
      "metadata": {
        "colab": {
          "base_uri": "https://localhost:8080/"
        },
        "id": "xF8zae_AU1pZ",
        "outputId": "ba48c914-eec2-4100-e8b6-ab9e309dbdf3"
      },
      "source": [
        "!git clone https://github.com/AlexeyAB/darknet.git"
      ],
      "execution_count": null,
      "outputs": [
        {
          "output_type": "stream",
          "name": "stdout",
          "text": [
            "fatal: destination path 'darknet' already exists and is not an empty directory.\n"
          ]
        }
      ]
    },
    {
      "cell_type": "markdown",
      "metadata": {
        "id": "XyVeJe0tkX9g"
      },
      "source": [
        "# <font style=\"color:blue\">3. Compile DarkNet</font>\n",
        "We will first make some changes to the Makefile before we compile. Specifically, we will enable the following:\n",
        "1. Build darknet with OpenCV\n",
        "1. Build with CUDA enabled\n",
        "1. Build with cuDNN enabled."
      ]
    },
    {
      "cell_type": "code",
      "metadata": {
        "colab": {
          "base_uri": "https://localhost:8080/"
        },
        "id": "NLOeum3SbhEv",
        "outputId": "5fed8efd-26ee-4e10-9692-a3f7680fd3e7"
      },
      "source": [
        "%cd darknet"
      ],
      "execution_count": null,
      "outputs": [
        {
          "output_type": "stream",
          "name": "stdout",
          "text": [
            "/content/drive/My Drive/darknet\n"
          ]
        }
      ]
    },
    {
      "cell_type": "code",
      "metadata": {
        "colab": {
          "base_uri": "https://localhost:8080/"
        },
        "id": "hndnR498X5gL",
        "outputId": "5ec166a4-5f4d-4f6d-b157-5530153d8a8b"
      },
      "source": [
        "!sed -i 's/OPENCV=0/OPENCV=1/' Makefile\n",
        "!sed -i 's/GPU=0/GPU=1/' Makefile\n",
        "!sed -i 's/CUDNN=0/CUDNN=1/' Makefile\n",
        "\n",
        "print(\"Building. . . It might take 2-3 minutes\")\n",
        "\n",
        "!make &> build_log.txt"
      ],
      "execution_count": null,
      "outputs": [
        {
          "output_type": "stream",
          "name": "stdout",
          "text": [
            "Building. . . It might take 2-3 minutes\n"
          ]
        }
      ]
    },
    {
      "cell_type": "markdown",
      "metadata": {
        "id": "-mqwhWhoaVeM"
      },
      "source": [
        "## <font style=\"color:blue\">4. Download Data</font>\n",
        "Download facemask dataset."
      ]
    },
    {
      "cell_type": "code",
      "metadata": {
        "id": "lfMINQkH_IsZ"
      },
      "source": [
        "!wget \"https://www.dropbox.com/s/uq0x32w70c390fb/mask_no-mask_dataset.zip?dl=1\" -O OID-data.zip\n",
        "!mkdir -p mask_no-mask_dataset\n",
        "!unzip -o OID-data.zip -d mask_no-mask_dataset"
      ],
      "execution_count": null,
      "outputs": []
    },
    {
      "cell_type": "markdown",
      "metadata": {
        "id": "3-8fPqKLvxkI"
      },
      "source": [
        "## <font style=\"color:blue\">5. Prepare dataset files</font>\n",
        "Generate data_train.txt and data_test.txt"
      ]
    },
    {
      "cell_type": "code",
      "metadata": {
        "id": "57-yYxyiOt_t"
      },
      "source": [
        "import random\n",
        "import os\n",
        "import subprocess\n",
        "import sys\n",
        "\n",
        "image_dir = \"./mask_no-mask_dataset\"\n",
        "f_val = open(\"data_test.txt\", 'w')\n",
        "f_train = open(\"data_train.txt\", 'w')\n",
        "\n",
        "path, dirs, files = next(os.walk(image_dir))\n",
        "data_size = len(files)\n",
        "\n",
        "ind = 0\n",
        "data_test_size = int(0.2 * data_size)\n",
        "test_array = random.sample(range(data_size), k=data_test_size)\n",
        "\n",
        "for f in os.listdir(image_dir):\n",
        "    if(f.split(\".\")[-1] == \"jpg\"):\n",
        "        ind += 1\n",
        "        \n",
        "        if ind in test_array:\n",
        "            f_val.write(image_dir+'/'+f+'\\n')\n",
        "        else:\n",
        "            f_train.write(image_dir+'/'+f+'\\n')\n",
        "\n",
        "f_train.close()\n",
        "f_val.close()"
      ],
      "execution_count": null,
      "outputs": []
    },
    {
      "cell_type": "markdown",
      "metadata": {
        "id": "ROp-yetlhB39"
      },
      "source": [
        "# <font style=\"color:blue\">6. Download config files</font>\n",
        "This will download the class names and config files i did modify for training with the facemask dataset"
      ]
    },
    {
      "cell_type": "code",
      "metadata": {
        "id": "KjjxH0_irgGg"
      },
      "source": [
        "!gdown \"13rG8mQCe7XGQho8Q9YGjdSz1ixFRuTUg\"\n",
        "!gdown \"1MnDl_ohEyYmLRHNOmccZChTBn6vt_F7P\"\n",
        "!gdown \"1H7IJQ_jWJeJhYJ8jdKO1cCMpx-oOSrGV\"\n",
        "!gdown \"1vIGuTDIPbxGpInYDhtc44iDmGQkcxel2\""
      ],
      "execution_count": null,
      "outputs": []
    },
    {
      "cell_type": "markdown",
      "metadata": {
        "id": "5D2933LokxFv"
      },
      "source": [
        "# <font style=\"color:blue\">7. Download weights for Convolutional backbone</font>\n",
        "Download pre-trained model."
      ]
    },
    {
      "cell_type": "code",
      "metadata": {
        "id": "6SN_FKwhKv1L"
      },
      "source": [
        "!wget \"https://github.com/AlexeyAB/darknet/releases/download/darknet_yolo_v3_optimal/yolov4.conv.137\" -O yolov4.conv.137"
      ],
      "execution_count": null,
      "outputs": []
    },
    {
      "cell_type": "markdown",
      "metadata": {
        "id": "XYmSbtca_H_1"
      },
      "source": [
        "# <font style=\"color:blue\">8. Start Training </font>"
      ]
    },
    {
      "cell_type": "code",
      "metadata": {
        "id": "6BYeXXgfQzEo"
      },
      "source": [
        "!./darknet detector train yolov4-facemask-setup.data yolov4-train.cfg yolov4.conv.137 -dont_show -map -clear\n",
        "\n",
        "#!./darknet detector train yolov3-facemask-setup.data yolov3-facemask-train.cfg ./darknet53.conv.74 -dont_show -map 2> train_log.txt\n",
        "#!./darknet detector train yolov3-facemask-setup.data yolov3-facemask-train.cfg ./darknet53.conv.74 -dont_show -map -clear 2> train_log.txt\n",
        "#!./darknet detector train yolov3-facemask-setup.data yolov3-facemask-train.cfg backup/yolov3-facemask-train_last.weights -dont_show -map -clear 2> train_log.txt"
      ],
      "execution_count": null,
      "outputs": []
    }
  ]
}